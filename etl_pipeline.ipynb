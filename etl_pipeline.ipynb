{
 "cells": [
  {
   "cell_type": "code",
   "execution_count": null,
   "metadata": {},
   "outputs": [],
   "source": [
    "# git init\n",
    "# git config --global user.name \"Ahmad-MAA\"\n",
    "# git config --global user.email \"musa.ahmad4abubakar@gmail.com\"\n",
    "# git status\n",
    "# git commit -m \"first commit\"    \n",
    "#  installing pyspark (using pip install pyspark [in the termional])\n",
    "# installing psycopg2 in terminal\n",
    "# install java 8\n",
    "# Posgres jdbc driver(dowlaod and keepin work space directory)\n",
    "#set java home\n",
    "# Initialise the SparkSesion\n",
    "# Create a spark dataframe\n",
    "# Clean Data\n",
    "#Data Transformation to 2NF\n",
    "## Customer table\n",
    "# employee table\n",
    "# Building the Fact_table\n",
    "# Databloading\n",
    "# connect to sql database\n",
    "# Loading to data base\n",
    "\n"
   ]
  },
  {
   "cell_type": "code",
   "execution_count": 68,
   "metadata": {},
   "outputs": [],
   "source": [
    "# Import necesary libraries\n",
    "from pyspark.sql import SparkSession\n",
    "from pyspark.sql import DataFrameWriter\n",
    "from pyspark.sql.functions import monotonically_increasing_id\n",
    "import os\n",
    "import psycopg2\n"
   ]
  },
  {
   "cell_type": "code",
   "execution_count": 69,
   "metadata": {},
   "outputs": [],
   "source": [
    "# Set Java home\n",
    "os.environ['JAVA_HOME'] = r'C:\\java8'"
   ]
  },
  {
   "cell_type": "code",
   "execution_count": 70,
   "metadata": {},
   "outputs": [],
   "source": [
    "# Initialise the SparkSesion\n",
    "spark = SparkSession.builder\\\n",
    "        .appName(\"Nuga Bank ETL\")\\\n",
    "        .config(\"spark.jars\", \"postgresql-42.7.4.jar\")\\\n",
    "        .getOrCreate()\n",
    "#"
   ]
  },
  {
   "cell_type": "code",
   "execution_count": 71,
   "metadata": {},
   "outputs": [
    {
     "data": {
      "text/html": [
       "\n",
       "            <div>\n",
       "                <p><b>SparkSession - in-memory</b></p>\n",
       "                \n",
       "        <div>\n",
       "            <p><b>SparkContext</b></p>\n",
       "\n",
       "            <p><a href=\"http://Ahmad-D.mshome.net:4040\">Spark UI</a></p>\n",
       "\n",
       "            <dl>\n",
       "              <dt>Version</dt>\n",
       "                <dd><code>v3.5.2</code></dd>\n",
       "              <dt>Master</dt>\n",
       "                <dd><code>local[*]</code></dd>\n",
       "              <dt>AppName</dt>\n",
       "                <dd><code>Nuga Bank ETL</code></dd>\n",
       "            </dl>\n",
       "        </div>\n",
       "        \n",
       "            </div>\n",
       "        "
      ],
      "text/plain": [
       "<pyspark.sql.session.SparkSession at 0x185611733e0>"
      ]
     },
     "execution_count": 71,
     "metadata": {},
     "output_type": "execute_result"
    }
   ],
   "source": [
    "spark"
   ]
  },
  {
   "cell_type": "code",
   "execution_count": 72,
   "metadata": {},
   "outputs": [],
   "source": [
    "# Extract the historicat data into a spark dataframe\n",
    "df = spark.read.csv(r'dataset\\rawdata\\nuga_bank_transactions.csv', header=True, inferSchema=True)\n"
   ]
  },
  {
   "cell_type": "code",
   "execution_count": 11,
   "metadata": {},
   "outputs": [
    {
     "name": "stdout",
     "output_type": "stream",
     "text": [
      "+--------------------+------+----------------+--------------+--------------------+------------------+--------------+--------------------+--------------------+--------------------+--------------------+-------------------+------------------+--------------------+-------------+-------------+--------+-----+---------+--------------------+--------------------+------+--------------+\n",
      "|    Transaction_Date|Amount|Transaction_Type| Customer_Name|    Customer_Address|     Customer_City|Customer_State|    Customer_Country|             Company|           Job_Title|               Email|       Phone_Number|Credit_Card_Number|                IBAN|Currency_Code|Random_Number|Category|Group|Is_Active|        Last_Updated|         Description|Gender|Marital_Status|\n",
      "+--------------------+------+----------------+--------------+--------------------+------------------+--------------+--------------------+--------------------+--------------------+--------------------+-------------------+------------------+--------------------+-------------+-------------+--------+-----+---------+--------------------+--------------------+------+--------------+\n",
      "|2024-03-23 15:38:...| 34.76|      Withdrawal|    James Neal|54912 Holmes Lodg...| West Keithborough|       Florida|                Togo|Benson, Johnson a...|                NULL|                NULL|  493.720.6609x7545|  3592901394693441|GB98RBPP090285271...|          MAD|       3167.0|       C|    Z|       No|2020-06-20 03:04:...|Yeah food anythin...| Other|      Divorced|\n",
      "|2024-04-22 19:15:...|163.92|      Withdrawal|   Thomas Long| 1133 Collin Passage|        Joshuabury|   Connecticut|Lao People's Demo...|                NULL|   Food technologist|michellelynch@exa...|      (497)554-3317|              NULL|GB03KFZR339662263...|          VEF|       2122.0|       B|    Z|     NULL|2020-12-27 13:23:...|Teach edge make n...|Female|       Married|\n",
      "|2024-04-12 19:46:...|386.32|      Withdrawal|Ashley Shelton|5297 Johnson Port...|       North Maria|    New Jersey|              Bhutan|       Jones-Mueller|Database administ...| ljordan@example.org|      (534)769-3072|      675983949974|GB59QYRN446730519...|          COP|       7796.0|       C|    Z|       No|2020-01-24 01:23:...|Again line face c...| Other|          NULL|\n",
      "|2024-04-17 15:29:...|407.15|         Deposit| James Rosario|56955 Moore Glens...|North Michellefurt|    New Mexico|             Iceland|       Vargas-Harris|Horticultural the...|parkerjames@examp...|+1-447-900-1320x257|     4761202519057|GB74FTDO268299438...|          BWP|       6284.0|       C|    Z|      Yes|2023-09-27 03:01:...|     Bag my a drive.|  NULL|          NULL|\n",
      "|2024-02-10 01:51:...|161.31|         Deposit|Miguel Leonard|262 Beck Expressw...|              NULL| West Virginia|             Eritrea|Richardson, Gonza...|   Minerals surveyor| zweaver@example.net|               NULL|   213156729655186|GB94EWRN587847592...|          SOS|       9179.0|       C|    Y|       No|2022-01-22 19:08:...|Husband find ok w...|Female|       Married|\n",
      "+--------------------+------+----------------+--------------+--------------------+------------------+--------------+--------------------+--------------------+--------------------+--------------------+-------------------+------------------+--------------------+-------------+-------------+--------+-----+---------+--------------------+--------------------+------+--------------+\n",
      "only showing top 5 rows\n",
      "\n"
     ]
    }
   ],
   "source": [
    "df.show(5)"
   ]
  },
  {
   "cell_type": "code",
   "execution_count": 12,
   "metadata": {},
   "outputs": [
    {
     "name": "stdout",
     "output_type": "stream",
     "text": [
      "root\n",
      " |-- Transaction_Date: timestamp (nullable = true)\n",
      " |-- Amount: double (nullable = true)\n",
      " |-- Transaction_Type: string (nullable = true)\n",
      " |-- Customer_Name: string (nullable = true)\n",
      " |-- Customer_Address: string (nullable = true)\n",
      " |-- Customer_City: string (nullable = true)\n",
      " |-- Customer_State: string (nullable = true)\n",
      " |-- Customer_Country: string (nullable = true)\n",
      " |-- Company: string (nullable = true)\n",
      " |-- Job_Title: string (nullable = true)\n",
      " |-- Email: string (nullable = true)\n",
      " |-- Phone_Number: string (nullable = true)\n",
      " |-- Credit_Card_Number: long (nullable = true)\n",
      " |-- IBAN: string (nullable = true)\n",
      " |-- Currency_Code: string (nullable = true)\n",
      " |-- Random_Number: double (nullable = true)\n",
      " |-- Category: string (nullable = true)\n",
      " |-- Group: string (nullable = true)\n",
      " |-- Is_Active: string (nullable = true)\n",
      " |-- Last_Updated: timestamp (nullable = true)\n",
      " |-- Description: string (nullable = true)\n",
      " |-- Gender: string (nullable = true)\n",
      " |-- Marital_Status: string (nullable = true)\n",
      "\n"
     ]
    }
   ],
   "source": [
    "df.printSchema()"
   ]
  },
  {
   "cell_type": "code",
   "execution_count": 16,
   "metadata": {},
   "outputs": [
    {
     "name": "stdout",
     "output_type": "stream",
     "text": [
      "Transaction_Date Nulls: 0\n",
      "Amount Nulls: 0\n",
      "Transaction_Type Nulls: 0\n",
      "Customer_Name Nulls: 100425\n",
      "Customer_Address Nulls: 100087\n",
      "Customer_City Nulls: 100034\n",
      "Customer_State Nulls: 100009\n",
      "Customer_Country Nulls: 100672\n",
      "Company Nulls: 100295\n",
      "Job_Title Nulls: 99924\n",
      "Email Nulls: 100043\n",
      "Phone_Number Nulls: 100524\n",
      "Credit_Card_Number Nulls: 100085\n",
      "IBAN Nulls: 100300\n",
      "Currency_Code Nulls: 99342\n",
      "Random_Number Nulls: 99913\n",
      "Category Nulls: 100332\n",
      "Group Nulls: 100209\n",
      "Is_Active Nulls: 100259\n",
      "Last_Updated Nulls: 100321\n",
      "Description Nulls: 100403\n",
      "Gender Nulls: 99767\n",
      "Marital_Status Nulls: 99904\n"
     ]
    }
   ],
   "source": [
    "#Data Cleaning and Transformation\n",
    "for column in df.columns:\n",
    "    print (column, 'Nulls:', df.filter(df[column].isNull()).count())"
   ]
  },
  {
   "cell_type": "code",
   "execution_count": 17,
   "metadata": {},
   "outputs": [
    {
     "name": "stdout",
     "output_type": "stream",
     "text": [
      "+-------+------------------+----------------+-------------+--------------------+-------------+--------------+----------------+-------------+------------------+-------------------+--------------------+--------------------+--------------------+-------------+------------------+--------+------+---------+--------------------+------+--------------+\n",
      "|summary|            Amount|Transaction_Type|Customer_Name|    Customer_Address|Customer_City|Customer_State|Customer_Country|      Company|         Job_Title|              Email|        Phone_Number|  Credit_Card_Number|                IBAN|Currency_Code|     Random_Number|Category| Group|Is_Active|         Description|Gender|Marital_Status|\n",
      "+-------+------------------+----------------+-------------+--------------------+-------------+--------------+----------------+-------------+------------------+-------------------+--------------------+--------------------+--------------------+-------------+------------------+--------+------+---------+--------------------+------+--------------+\n",
      "|  count|           1000000|         1000000|       899575|              899913|       899966|        899991|          899328|       899705|            900076|             899957|              899476|              899915|              899700|       900658|            900087|  899668|899791|   899741|              899597|900233|        900096|\n",
      "|   mean|504.97371121999953|            NULL|         NULL|                NULL|         NULL|          NULL|            NULL|         NULL|              NULL|               NULL|  6.00341888622502E9|3.785330130644817...|                NULL|         NULL| 5504.445295843624|    NULL|  NULL|     NULL|                NULL|  NULL|          NULL|\n",
      "| stddev| 285.7997202441231|            NULL|         NULL|                NULL|         NULL|          NULL|            NULL|         NULL|              NULL|               NULL|2.3071119812223907E9|1.247765855631420...|                NULL|         NULL|2598.1680843741146|    NULL|  NULL|     NULL|                NULL|  NULL|          NULL|\n",
      "|    min|              10.0|         Deposit| Aaron Abbott|000 Aaron Landing...|    Aaronberg|       Alabama|     Afghanistan| Abbott Group|Academic librarian|aabbott@example.com|       (200)201-4254|         60400015693|GB02AAAU191993009...|          AED|            1000.0|       A|     X|       No|A American and to...|Female|      Divorced|\n",
      "|    max|            1000.0|      Withdrawal|    Zoe Young|    99999 Mark Vista|  Zunigaville|       Wyoming|        Zimbabwe|Zuniga-Wilson|      Youth worker|zzuniga@example.org|          9999777682| 4999984361512569455|GB98ZZXM257326775...|          ZWD|            9999.0|       D|     Z|      Yes|Yourself young ev...| Other|        Single|\n",
      "+-------+------------------+----------------+-------------+--------------------+-------------+--------------+----------------+-------------+------------------+-------------------+--------------------+--------------------+--------------------+-------------+------------------+--------+------+---------+--------------------+------+--------------+\n",
      "\n"
     ]
    }
   ],
   "source": [
    "df.describe().show()"
   ]
  },
  {
   "cell_type": "code",
   "execution_count": 73,
   "metadata": {},
   "outputs": [],
   "source": [
    "# fill up the missing values\n",
    "df_clean = df.fillna({\n",
    "    'Customer_Name' : 'Unknown',\n",
    "    'Customer_Address' : 'Unknown',\n",
    "    'Customer_City' : 'Unknown',\n",
    "    'Customer_State' : 'Unknown',\n",
    "    'Customer_Country' : 'Unknown',\n",
    "    'Company' : 'Unknown',\n",
    "    'Job_Title' : 'Unknown',\n",
    "    'Email' : 'Unknown',\n",
    "    'Phone_Number' : 'Unknown',\n",
    "    'Credit_Card_Number' : 0,\n",
    "    'IBAN' : 'Unknown',\n",
    "    'Currency_Code' : 'Unknown',\n",
    "    'Random_Number' :0.0,\n",
    "    'Category' : 'Unknown',\n",
    "    'Group' : 'Unknown',\n",
    "    'Is_Active' : 'Unknown',\n",
    "    'Description' : 'Unknown',\n",
    "    'Gender': 'Unknown',\n",
    "    'Marital_Status' : 'Unknown'\n",
    "})"
   ]
  },
  {
   "cell_type": "code",
   "execution_count": 74,
   "metadata": {},
   "outputs": [],
   "source": [
    "# drop the missing Values in the Last_Updated column\n",
    "df_clean = df_clean.na.drop(subset = ['Last_Updated'])"
   ]
  },
  {
   "cell_type": "code",
   "execution_count": 75,
   "metadata": {},
   "outputs": [
    {
     "name": "stdout",
     "output_type": "stream",
     "text": [
      "Transaction_Date Nulls: 0\n",
      "Amount Nulls: 0\n",
      "Transaction_Type Nulls: 0\n",
      "Customer_Name Nulls: 0\n",
      "Customer_Address Nulls: 0\n",
      "Customer_City Nulls: 0\n",
      "Customer_State Nulls: 0\n",
      "Customer_Country Nulls: 0\n",
      "Company Nulls: 0\n",
      "Job_Title Nulls: 0\n",
      "Email Nulls: 0\n",
      "Phone_Number Nulls: 0\n",
      "Credit_Card_Number Nulls: 0\n",
      "IBAN Nulls: 0\n",
      "Currency_Code Nulls: 0\n",
      "Random_Number Nulls: 0\n",
      "Category Nulls: 0\n",
      "Group Nulls: 0\n",
      "Is_Active Nulls: 0\n",
      "Last_Updated Nulls: 0\n",
      "Description Nulls: 0\n",
      "Gender Nulls: 0\n",
      "Marital_Status Nulls: 0\n"
     ]
    }
   ],
   "source": [
    "#Data Cleaning and Transformation\n",
    "for column in df_clean.columns:\n",
    "    print (column, 'Nulls:', df_clean.filter(df_clean[column].isNull()).count())"
   ]
  },
  {
   "cell_type": "code",
   "execution_count": 76,
   "metadata": {},
   "outputs": [],
   "source": [
    "#Data Transformation to 2NF\n",
    "\n",
    "# Transaction table\n",
    "transaction = df_clean.select('Transaction_Date','Amount','Transaction_Type')\\\n",
    "                                .withColumn('transaction_id', monotonically_increasing_id())\\\n",
    "                                .select('transaction_id','Transaction_Date','Amount','Transaction_Type')\n"
   ]
  },
  {
   "cell_type": "code",
   "execution_count": 23,
   "metadata": {},
   "outputs": [
    {
     "name": "stdout",
     "output_type": "stream",
     "text": [
      "+--------------+--------------------+------+----------------+\n",
      "|transaction_id|    Transaction_Date|Amount|Transaction_Type|\n",
      "+--------------+--------------------+------+----------------+\n",
      "|             0|2024-03-23 15:38:...| 34.76|      Withdrawal|\n",
      "|             1|2024-04-22 19:15:...|163.92|      Withdrawal|\n",
      "|             2|2024-04-12 19:46:...|386.32|      Withdrawal|\n",
      "|             3|2024-04-17 15:29:...|407.15|         Deposit|\n",
      "|             4|2024-02-10 01:51:...|161.31|         Deposit|\n",
      "+--------------+--------------------+------+----------------+\n",
      "only showing top 5 rows\n",
      "\n"
     ]
    }
   ],
   "source": [
    "transaction.show(5)"
   ]
  },
  {
   "cell_type": "markdown",
   "metadata": {},
   "source": [
    "# Customer table\n",
    "customer = nuga_bank_df_clean.select( 'Customer_Name','Customer_Address','Customer_City',\\\n",
    "                                     'Customer_State','Customer_Country','Email','Phone_Number').distinct()\n",
    "# Adding the transaction_id column\n",
    "customer = customer.withColumn('customer_id', monotonically_increasing_id())\n",
    "\n",
    "#re-ordering columns\n",
    "customer = customer.select('customer_id','Customer_Name','Customer_Address','Customer_City',\\\n",
    "                                     'Customer_State','Customer_Country','Email','Phone_Number')\n"
   ]
  },
  {
   "cell_type": "code",
   "execution_count": 77,
   "metadata": {},
   "outputs": [],
   "source": [
    "# Customer table\n",
    "customer = df_clean.select( 'Customer_Name','Customer_Address','Customer_City',\\\n",
    "                                     'Customer_State','Customer_Country','Email','Phone_Number').distinct()\\\n",
    "                    .withColumn('customer_id', monotonically_increasing_id())\\\n",
    "                    .select('customer_id','Customer_Name','Customer_Address','Customer_City',\\\n",
    "                                     'Customer_State','Customer_Country','Email','Phone_Number')\n"
   ]
  },
  {
   "cell_type": "code",
   "execution_count": 26,
   "metadata": {},
   "outputs": [
    {
     "name": "stdout",
     "output_type": "stream",
     "text": [
      "+-----------+--------------+--------------------+-------------+--------------+----------------+--------------------+--------------------+\n",
      "|customer_id| Customer_Name|    Customer_Address|Customer_City|Customer_State|Customer_Country|               Email|        Phone_Number|\n",
      "+-----------+--------------+--------------------+-------------+--------------+----------------+--------------------+--------------------+\n",
      "|          0|Miguel Leonard|262 Beck Expressw...|      Unknown| West Virginia|         Eritrea| zweaver@example.net|             Unknown|\n",
      "|          1|       Unknown|             Unknown|  Evanchester|        Oregon|         Uruguay|             Unknown| (384)778-9942x91236|\n",
      "|          2|Michael Murphy|894 Williams Ridg...|Dominguezview|      New York|          Sweden|kristinstanley@ex...|+1-693-739-2204x8851|\n",
      "|          3|Tina Gutierrez|    415 Taylor Knoll|    Donnastad|South Carolina|         Unknown|sarabrooks@exampl...|  623-933-0431x87174|\n",
      "|          4|  Kylie Adkins|    435 Nicole Curve|      Unknown|     Louisiana|         Unknown|davisronald@examp...|  (404)814-4457x1451|\n",
      "+-----------+--------------+--------------------+-------------+--------------+----------------+--------------------+--------------------+\n",
      "only showing top 5 rows\n",
      "\n"
     ]
    }
   ],
   "source": [
    "customer.show(5)"
   ]
  },
  {
   "cell_type": "code",
   "execution_count": 78,
   "metadata": {},
   "outputs": [],
   "source": [
    "# employee table\n",
    "employee = df_clean.select('Company','Job_Title','Gender','Marital_Status').distinct()\\\n",
    "                    .withColumn('employee_id', monotonically_increasing_id())\\\n",
    "                    .select('employee_id','Company','Job_Title','Gender','Marital_Status')\n"
   ]
  },
  {
   "cell_type": "code",
   "execution_count": 28,
   "metadata": {},
   "outputs": [
    {
     "name": "stdout",
     "output_type": "stream",
     "text": [
      "+-----------+--------------------+--------------------+-------+--------------+\n",
      "|employee_id|             Company|           Job_Title| Gender|Marital_Status|\n",
      "+-----------+--------------------+--------------------+-------+--------------+\n",
      "|          0|         Price Group|             Unknown|   Male|        Single|\n",
      "|          1|Rhodes, King and ...| Trade mark attorney|   Male|       Unknown|\n",
      "|          2|Schmidt, Morgan a...|     Engineer, water| Female|        Single|\n",
      "|          3|       Johnson Group|  Forensic scientist|   Male|       Unknown|\n",
      "|          4|     Phillips-Prince|Production assist...|Unknown|        Single|\n",
      "+-----------+--------------------+--------------------+-------+--------------+\n",
      "only showing top 5 rows\n",
      "\n"
     ]
    }
   ],
   "source": [
    "employee.show(5)"
   ]
  },
  {
   "cell_type": "code",
   "execution_count": 79,
   "metadata": {},
   "outputs": [],
   "source": [
    "# Building the Fact_table\n",
    "fact_table = df_clean.join(customer,['Customer_Name','Customer_Address','Customer_City',\\\n",
    "                                     'Customer_State','Customer_Country','Email','Phone_Number'], 'inner')\\\n",
    "                    .join(transaction,['Transaction_Date','Amount','Transaction_Type'],'inner')\\\n",
    "                    .join(employee,['Company','Job_Title','Gender','Marital_Status'],'inner')\\\n",
    "                    .select('transaction_id','customer_id','employee_id','Credit_Card_Number',\\\n",
    "                            'IBAN','Currency_Code','Random_Number','Category','Group', 'Is_Active',\\\n",
    "                             'Last_Updated', 'Description')"
   ]
  },
  {
   "cell_type": "code",
   "execution_count": 31,
   "metadata": {},
   "outputs": [
    {
     "name": "stdout",
     "output_type": "stream",
     "text": [
      "+--------------+-----------+-----------+------------------+--------------------+-------------+-------------+--------+-----+---------+--------------------+--------------------+\n",
      "|transaction_id|customer_id|employee_id|Credit_Card_Number|                IBAN|Currency_Code|Random_Number|Category|Group|Is_Active|        Last_Updated|         Description|\n",
      "+--------------+-----------+-----------+------------------+--------------------+-------------+-------------+--------+-----+---------+--------------------+--------------------+\n",
      "|    8590072254| 8589986570|      62959|  3518317232148905|GB65HEYL937620470...|          RSD|       5419.0|       D|    X|       No|2023-11-23 03:03:...|Enjoy interview c...|\n",
      "|        175861|17179904194|        818|      501840097544|GB38LHXK416865631...|          KZT|       5100.0| Unknown|    X|      Yes|2023-05-25 23:02:...|             Unknown|\n",
      "|   17180060193|      89758|     129561|  4147377235704853|             Unknown|          FKP|       8434.0|       B|    Y|      Yes|2021-04-03 08:59:...|Effect college cu...|\n",
      "|   17180034023|17179968066|     136434|  3583789291890611|GB77YUPY268812806...|          JPY|       3977.0|       C|    Y|      Yes|2021-04-20 13:22:...|Million surface o...|\n",
      "|    8590149805|25769854146|     101170|   345203919983829|GB33HOLQ709237052...|          ZWD|       4074.0|       C|    Y|       No|2023-12-02 17:48:...|Director bar avoi...|\n",
      "+--------------+-----------+-----------+------------------+--------------------+-------------+-------------+--------+-----+---------+--------------------+--------------------+\n",
      "only showing top 5 rows\n",
      "\n"
     ]
    }
   ],
   "source": [
    "fact_table.show(5)"
   ]
  },
  {
   "cell_type": "code",
   "execution_count": 83,
   "metadata": {},
   "outputs": [],
   "source": [
    "#Databloading\n",
    "def get_db_connection():\n",
    "    connection = psycopg2.connect(\n",
    "        host ='localhost',\n",
    "        database ='nuga_bank',\n",
    "        user ='postgres',\n",
    "        password ='password'\n",
    "    )\n",
    "    return connection\n",
    "#connect to sql database\n",
    "conn = get_db_connection()"
   ]
  },
  {
   "cell_type": "code",
   "execution_count": 90,
   "metadata": {},
   "outputs": [],
   "source": [
    "def create_tables():\n",
    "    try:\n",
    "        conn = get_db_connection()\n",
    "        cursor = conn.cursor()\n",
    "        create_table_query = '''\n",
    "                            DROP TABLE IF EXISTS customer;\n",
    "                            DROP TABLE IF EXISTS transaction;\n",
    "                            DROP TABLE IF EXISTS employee;\n",
    "                            DROP TABLE IF EXISTS fact_table;\n",
    "\n",
    "                            CREATE TABLE customer (\n",
    "                                customer_id BIGINT,\n",
    "                                Customer_Name VARCHAR(1000),\n",
    "                                Customer_Address VARCHAR(1000),\n",
    "                                Customer_City VARCHAR(1000),\n",
    "                                Customer_State VARCHAR(1000),\n",
    "                                Customer_Country VARCHAR(1000),\n",
    "                                Email VARCHAR(1000),\n",
    "                                Phone_Number VARCHAR(1000)                    \n",
    "                            );\n",
    "\n",
    "                            CREATE TABLE transaction (\n",
    "                                transaction_id BIGINT,\n",
    "                                Amount FLOAT,\n",
    "                                Transaction_Date DATE,\n",
    "                                Transaction_Type VARCHAR(1000)\n",
    "                            );\n",
    "\n",
    "                            CREATE TABLE employee(\n",
    "                                employee_id BIGINT,\n",
    "                                Company VARCHAR(1000),\n",
    "                                Job_Title VARCHAR(1000),\n",
    "                                Gender VARCHAR(1000),\n",
    "                                Marital_Status VARCHAR(1000)\n",
    "                            );\n",
    "\n",
    "                            CREATE TABLE fact_table(\n",
    "                                transaction_id BIGINT,\n",
    "                                customer_id BIGINT,\n",
    "                                employee_id BIGINT,\n",
    "                                Credit_Card_Number VARCHAR(1000),\n",
    "                                IBAN VARCHAR(1000),\n",
    "                                Currency_Code VARCHAR(1000),\n",
    "                                Random_Number FLOAT,\n",
    "                                Category VARCHAR(1000),\n",
    "                                \"Group\" VARCHAR(1000),\n",
    "                                Is_Active VARCHAR(1000),\n",
    "                                Last_Updated DATE,\n",
    "                                Description VARCHAR(1000)\n",
    "                            );\n",
    "                            '''\n",
    "        cursor.execute(create_table_query)\n",
    "        conn.commit()\n",
    "        print(\"Tables created successfully.\")\n",
    "    except Exception as e:\n",
    "        print(f\"Error: {e}\")\n",
    "    finally:\n",
    "        cursor.close()\n",
    "        conn.close()\n"
   ]
  },
  {
   "cell_type": "code",
   "execution_count": 91,
   "metadata": {},
   "outputs": [
    {
     "name": "stdout",
     "output_type": "stream",
     "text": [
      "Tables created successfully.\n"
     ]
    }
   ],
   "source": [
    "create_tables()"
   ]
  },
  {
   "cell_type": "code",
   "execution_count": 96,
   "metadata": {},
   "outputs": [],
   "source": [
    "url = \"jdbc:postgresql://localhost:5432/nuga_bank\"\n",
    "properties = {\n",
    "    \"user\" : \"postgres\",\n",
    "    \"password\" : \"password\",\n",
    "    \"driver\" : \"org.postgresql.Driver\"\n",
    "}\n",
    "customer.write.jdbc(url=url, table=\"customer\", mode=\"append\", properties=properties)"
   ]
  },
  {
   "cell_type": "code",
   "execution_count": 97,
   "metadata": {},
   "outputs": [],
   "source": [
    "employee.write.jdbc(url=url, table=\"employee\", mode=\"append\", properties=properties)\n",
    "transaction.write.jdbc(url=url, table=\"transaction\", mode=\"append\", properties=properties)\n",
    "fact_table.write.jdbc(url=url, table=\"fact_table\", mode=\"append\", properties=properties)"
   ]
  },
  {
   "cell_type": "code",
   "execution_count": null,
   "metadata": {},
   "outputs": [],
   "source": []
  }
 ],
 "metadata": {
  "kernelspec": {
   "display_name": "base",
   "language": "python",
   "name": "python3"
  },
  "language_info": {
   "codemirror_mode": {
    "name": "ipython",
    "version": 3
   },
   "file_extension": ".py",
   "mimetype": "text/x-python",
   "name": "python",
   "nbconvert_exporter": "python",
   "pygments_lexer": "ipython3",
   "version": "3.12.3"
  }
 },
 "nbformat": 4,
 "nbformat_minor": 2
}
